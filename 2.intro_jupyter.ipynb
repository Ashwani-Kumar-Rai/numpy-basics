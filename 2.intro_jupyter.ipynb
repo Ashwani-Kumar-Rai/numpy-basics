{
 "cells": [
  {
   "cell_type": "code",
   "execution_count": null,
   "metadata": {},
   "outputs": [],
   "source": [
    "# JUPYTOR NOTEBOOK :  is a web-based tool for writing and running code. \n",
    " # -It's often used for data analysis, scientific computing, and machine learning.\n",
    "  # - The name \"Jupyter\" comes from combining the names of three programming languages:Julia, Python,and R, \n",
    "   # -but it can run other languages too. Jupyter Notebook provides a nice interface for writing code,\n",
    "    # - visualizing data, and documenting your work. \n",
    "     # -It's like a digital notebook where you can write notes and code snippets in cells,  \n",
    "      # -and then run and see the output directly."
   ]
  }
 ],
 "metadata": {
  "kernelspec": {
   "display_name": "Python 3",
   "language": "python",
   "name": "python3"
  },
  "language_info": {
   "name": "python",
   "version": "3.10.6 (main, Nov 14 2022, 16:10:14) [GCC 11.3.0]"
  },
  "orig_nbformat": 4,
  "vscode": {
   "interpreter": {
    "hash": "916dbcbb3f70747c44a77c7bcd40155683ae19c65e1c03b4aa3499c5328201f1"
   }
  }
 },
 "nbformat": 4,
 "nbformat_minor": 2
}
