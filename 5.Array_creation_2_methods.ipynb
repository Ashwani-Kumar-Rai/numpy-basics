{
 "cells": [
  {
   "cell_type": "code",
   "execution_count": 7,
   "metadata": {},
   "outputs": [
    {
     "data": {
      "text/plain": [
       "dtype('float64')"
      ]
     },
     "execution_count": 7,
     "metadata": {},
     "output_type": "execute_result"
    }
   ],
   "source": [
    "# 2-Intrinsic NumPy array creation functions (e.g. arange, ones, zeros, etc.)\n",
    "\n",
    "# numpy provide some functions for creating array\n",
    "\n",
    "\n",
    "# zeros function\n",
    "import numpy as np \n",
    "zeros = np.zeros((2,5))\n",
    "zeros # ye 2,5 size ka array bana k dega filled with zeros\n",
    "# zeros.dtype\n"
   ]
  },
  {
   "cell_type": "code",
   "execution_count": 13,
   "metadata": {},
   "outputs": [
    {
     "data": {
      "text/plain": [
       "array([ 0,  1,  2,  3,  4,  5,  6,  7,  8,  9, 10, 11, 12, 13, 14])"
      ]
     },
     "execution_count": 13,
     "metadata": {},
     "output_type": "execute_result"
    }
   ],
   "source": [
    "# arange function \n",
    "import numpy as np \n",
    "rng=np.arange(15)\n",
    "rng"
   ]
  },
  {
   "cell_type": "code",
   "execution_count": 16,
   "metadata": {},
   "outputs": [
    {
     "data": {
      "text/plain": [
       "array([ 1.        ,  6.44444444, 11.88888889, 17.33333333, 22.77777778,\n",
       "       28.22222222, 33.66666667, 39.11111111, 44.55555556, 50.        ])"
      ]
     },
     "execution_count": 16,
     "metadata": {},
     "output_type": "execute_result"
    }
   ],
   "source": [
    "# linspace function\n",
    "import numpy as np \n",
    "lspace = np.linspace(1,50,10) # give 10 elements : elements between 1 to 50 having equal space between them\n",
    "\n",
    "lspace  "
   ]
  },
  {
   "cell_type": "code",
   "execution_count": 17,
   "metadata": {},
   "outputs": [
    {
     "data": {
      "text/plain": [
       "array([[4.65774186e-310, 0.00000000e+000, 6.93758456e-310,\n",
       "        6.93758457e-310, 6.93758441e-310, 6.93758457e-310],\n",
       "       [6.93758441e-310, 6.93758456e-310, 6.93758451e-310,\n",
       "        6.93758457e-310, 6.93758457e-310, 6.93758447e-310],\n",
       "       [6.93758441e-310, 6.93758457e-310, 6.93758446e-310,\n",
       "        6.93758457e-310, 6.93758447e-310, 6.93758447e-310],\n",
       "       [6.93758446e-310, 6.93758457e-310, 6.93758446e-310,\n",
       "        6.93758447e-310, 6.93758457e-310, 6.93758441e-310]])"
      ]
     },
     "execution_count": 17,
     "metadata": {},
     "output_type": "execute_result"
    }
   ],
   "source": [
    "# empty function\n",
    "import numpy as np\n",
    "emp = np.empty((4,6)) # empty array of 4,6 , all values will be random \n",
    "emp"
   ]
  },
  {
   "cell_type": "code",
   "execution_count": 18,
   "metadata": {},
   "outputs": [
    {
     "data": {
      "text/plain": [
       "array([ 1.        ,  6.44444444, 11.88888889, 17.33333333, 22.77777778,\n",
       "       28.22222222, 33.66666667, 39.11111111, 44.55555556, 50.        ])"
      ]
     },
     "execution_count": 18,
     "metadata": {},
     "output_type": "execute_result"
    }
   ],
   "source": [
    "# empty_like function \n",
    "\n",
    "emp_like = np.empty_like(lspace) # kisi old array ka size copy krke ye empty array banadega\n",
    "emp_like"
   ]
  },
  {
   "cell_type": "code",
   "execution_count": 19,
   "metadata": {},
   "outputs": [
    {
     "data": {
      "text/plain": [
       "array([[1., 0., 0., ..., 0., 0., 0.],\n",
       "       [0., 1., 0., ..., 0., 0., 0.],\n",
       "       [0., 0., 1., ..., 0., 0., 0.],\n",
       "       ...,\n",
       "       [0., 0., 0., ..., 1., 0., 0.],\n",
       "       [0., 0., 0., ..., 0., 1., 0.],\n",
       "       [0., 0., 0., ..., 0., 0., 1.]])"
      ]
     },
     "execution_count": 19,
     "metadata": {},
     "output_type": "execute_result"
    }
   ],
   "source": [
    "ide = np.identity(45) # gives 45 X 45 matrix ki identity  matrix \n",
    "ide"
   ]
  },
  {
   "cell_type": "code",
   "execution_count": 20,
   "metadata": {},
   "outputs": [
    {
     "data": {
      "text/plain": [
       "(45, 45)"
      ]
     },
     "execution_count": 20,
     "metadata": {},
     "output_type": "execute_result"
    }
   ],
   "source": [
    "ide.shape"
   ]
  },
  {
   "cell_type": "code",
   "execution_count": 28,
   "metadata": {},
   "outputs": [
    {
     "data": {
      "text/plain": [
       "(99,)"
      ]
     },
     "execution_count": 28,
     "metadata": {},
     "output_type": "execute_result"
    }
   ],
   "source": [
    "import numpy as np\n",
    "arr = np.arange(99)\n",
    "arr.reshape(3,33)\n",
    "# arr.reshape(3,31) # ERROR  3*31 will be 93 not 99 \n",
    "arr = arr.ravel()\n",
    "arr.shape # now this has become a 1 D array of 99 element "
   ]
  }
 ],
 "metadata": {
  "kernelspec": {
   "display_name": "Python 3",
   "language": "python",
   "name": "python3"
  },
  "language_info": {
   "codemirror_mode": {
    "name": "ipython",
    "version": 3
   },
   "file_extension": ".py",
   "mimetype": "text/x-python",
   "name": "python",
   "nbconvert_exporter": "python",
   "pygments_lexer": "ipython3",
   "version": "3.10.6"
  },
  "orig_nbformat": 4,
  "vscode": {
   "interpreter": {
    "hash": "916dbcbb3f70747c44a77c7bcd40155683ae19c65e1c03b4aa3499c5328201f1"
   }
  }
 },
 "nbformat": 4,
 "nbformat_minor": 2
}
