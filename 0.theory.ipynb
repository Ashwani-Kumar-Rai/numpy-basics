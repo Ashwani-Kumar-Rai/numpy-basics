{
  "nbformat": 4,
  "nbformat_minor": 0,
  "metadata": {
    "colab": {
      "provenance": []
    },
    "kernelspec": {
      "name": "python3",
      "display_name": "Python 3"
    },
    "language_info": {
      "name": "python"
    }
  },
  "cells": [
    {
      "cell_type": "markdown",
      "source": [
        "# NumPy is a Python library for numerical computing that provides support for arrays and matrices. \n",
        "\tHere is a tutorial that covers some of the most commonly used NumPy methods:\n",
        "\n",
        "    np.array: Converts input data into an ndarray.\n",
        "\n",
        "    np.zeros: Returns a new array of given shape and type, filled with zeros.\n",
        "\n",
        "    np.ones: Returns a new array of given shape and type, filled with ones.\n",
        "\n",
        "    np.eye: Returns a 2-D array with ones on the diagonal and zeros elsewhere.\n",
        "\n",
        "    np.linspace: Returns evenly spaced numbers over a specified interval.\n",
        "\n",
        "    np.arange: Returns evenly spaced values within a given interval.\n",
        "\n",
        "    np.random.rand: Generates arrays of random values in a given shape.\n",
        "\n",
        "    np.reshape: Gives a new shape to an array without changing its data.\n",
        "\n",
        "    np.transpose: Permutes the dimensions of an array.\n",
        "\n",
        "    np.concatenate: Joins two or more arrays along an existing axis.\n",
        "\n",
        "    np.split: Splits an array into multiple sub-arrays along a given axis.\n",
        "\n",
        "    np.mean: Computes the arithmetic mean along the specified axis.\n",
        "\n",
        "    np.median: Computes the median along the specified axis.\n",
        "\n",
        "    np.corrcoef: Computes Pearson product-moment correlation coefficients.\n",
        "\n",
        "    np.cov: Estimates a covariance matrix, given two sets of random variables.\n"
      ],
      "metadata": {
        "id": "QIqD6vAYpdqz"
      }
    },
    {
      "cell_type": "markdown",
      "source": [
        "# **ndarray**\n",
        "\n",
        "ndarray stands for \"N-dimensional array.\" It is the fundamental data structure in NumPy and is used to store and manipulate large arrays of homogeneous data (data of the same type, such as integers or floating-point values). The ndarray is a fast, flexible, and memory-efficient alternative to Python's built-in lists, and it provides many useful methods for working with arrays, such as reshaping, indexing, and mathematical operations. The dimensionality of an ndarray is specified by its \"shape,\" which is a tuple of integers representing the size of each dimension.\n"
      ],
      "metadata": {
        "id": "nF0t6eispyYz"
      }
    },
    {
      "cell_type": "markdown",
      "source": [
        "# **is ndarray an array or matrix**\n",
        "\n",
        "An ndarray can represent both arrays and matrices. It is a multi-dimensional, homogeneous collection of elements, which can be either a one-dimensional array (vector) or a two-dimensional array (matrix), or even higher-dimensional arrays with more than two dimensions. The distinction between an array and a matrix is often based on the context in which they are used. In general, arrays are used to store sequences of elements, while matrices are used to represent two-dimensional numerical tables. However, in NumPy, the term \"ndarray\" is used to refer to arrays of any dimensionality, including both arrays and matrices."
      ],
      "metadata": {
        "id": "_8gmnQVRqRAk"
      }
    },
    {
      "cell_type": "markdown",
      "source": [
        "# **is numpy mostly used for arrays**\n",
        "\n",
        "Yes, NumPy is mostly used for arrays, specifically for arrays of numerical data. NumPy provides a powerful and efficient library for working with arrays, including functions for performing element-wise operations, linear algebra operations, statistical operations, and many more. The ndarray data structure in NumPy is designed specifically for working with arrays and is optimized for numerical computations, making it an ideal choice for scientific and mathematical applications. Additionally, NumPy integrates well with other scientific libraries such as SciPy and Matplotlib, making it a popular choice for scientific computing and data analysis in Python.\n"
      ],
      "metadata": {
        "id": "JIDhxcvprzQC"
      }
    },
    {
      "cell_type": "markdown",
      "source": [
        "# **is numpy array and vector is same**\n",
        "\n",
        "In a broad sense, the terms \"NumPy array\" and \"vector\" can be used interchangeably, as a vector is simply a one-dimensional array. However, in a more specific sense, the term \"vector\" is often used to refer to a mathematical object with specific properties and operations, such as the concept of a vector in linear algebra.\n",
        "\n",
        "In NumPy, a one-dimensional array can be treated as a vector, as NumPy provides functions for performing vector operations, such as dot products and vector norms. However, it's important to note that not all one-dimensional arrays in NumPy are necessarily vectors in the mathematical sense.\n",
        "\n",
        "In summary, while the terms \"NumPy array\" and \"vector\" are often used interchangeably, it's important to understand the specific context in which they are used and the mathematical properties they may or may not possess."
      ],
      "metadata": {
        "id": "4vz0liilsK_D"
      }
    },
    {
      "cell_type": "code",
      "source": [
        "# LIST MOST POPULAR WAYS TO CREATE NDARRY WITH EXAMPLES \n",
        "\n",
        "  # There are several ways to create an ndarray in NumPy, including:\n",
        "\n",
        "  \n",
        "\n",
        "# 1> USING THE ARRAY FUNCTION : You can create an ndarray from a list or a tuple using the array function. For example:\n",
        "\n",
        "\n",
        "import numpy as np\n",
        "\n",
        "# Creating an ndarray from a list\n",
        "a = np.array([1, 2, 3, 4, 5])\n",
        "print(a)\n",
        "\n",
        "# Output: [1 2 3 4 5]\n",
        "\n",
        "# Creating an ndarray from a tuple\n",
        "b = np.array((1, 2, 3, 4, 5))\n",
        "print(b)\n",
        "# Output: [1 2 3 4 5]\n",
        "\n",
        "c=np.array([3,4,5,6,7])\n",
        "print(c)"
      ],
      "metadata": {
        "colab": {
          "base_uri": "https://localhost:8080/"
        },
        "id": "lbP_Z1C-srBz",
        "outputId": "d9a1ab0b-e0db-45fc-ff35-1fe17744d8a6"
      },
      "execution_count": null,
      "outputs": [
        {
          "output_type": "stream",
          "name": "stdout",
          "text": [
            "[1 2 3 4 5]\n",
            "[1 2 3 4 5]\n",
            "[3 4 5 6 7]\n"
          ]
        }
      ]
    },
    {
      "cell_type": "code",
      "source": [
        "# 2> USING THE ZEROS FUNCTIONS : You can create an ndarray filled with zeros using the zeros function. For example:\n",
        "import numpy as np\n",
        "\n",
        "# Creating a 3x3 ndarray filled with zeros\n",
        "a = np.zeros((3, 3))\n",
        "print(a)\n",
        "\n",
        "a = np.zeros([5, 5])\n",
        "print(a)\n",
        "# Output:\n",
        "# [[0. 0. 0.]\n",
        "#  [0. 0. 0.]\n",
        "#  [0. 0. 0.]]\n",
        "\n"
      ],
      "metadata": {
        "colab": {
          "base_uri": "https://localhost:8080/"
        },
        "id": "8vO9BPM1t_G7",
        "outputId": "341f40de-f622-479c-f9fb-4a38c30a6849"
      },
      "execution_count": null,
      "outputs": [
        {
          "output_type": "stream",
          "name": "stdout",
          "text": [
            "[[0. 0. 0.]\n",
            " [0. 0. 0.]\n",
            " [0. 0. 0.]]\n",
            "[[0. 0. 0. 0. 0.]\n",
            " [0. 0. 0. 0. 0.]\n",
            " [0. 0. 0. 0. 0.]\n",
            " [0. 0. 0. 0. 0.]\n",
            " [0. 0. 0. 0. 0.]]\n"
          ]
        }
      ]
    },
    {
      "cell_type": "code",
      "source": [
        "# 3> USING THE ONES FUNCTION : You can create an ndarray filled with ones using the ones function. For example:\n",
        "import numpy as np\n",
        "\n",
        "# Creating a 3x3 ndarray filled with ones\n",
        "a = np.ones((3, 3))\n",
        "print(a)\n",
        "\n",
        "z = np.ones([4,4])\n",
        "print(z)\n",
        "# Output:\n",
        "# [[1. 1. 1.]\n",
        "#  [1. 1. 1.]\n",
        "#  [1. 1. 1.]]\n"
      ],
      "metadata": {
        "colab": {
          "base_uri": "https://localhost:8080/"
        },
        "id": "ae-3Cy7puMEg",
        "outputId": "8ef7ce50-a511-419a-ffd1-bc95c7064a2a"
      },
      "execution_count": null,
      "outputs": [
        {
          "output_type": "stream",
          "name": "stdout",
          "text": [
            "[[1. 1. 1.]\n",
            " [1. 1. 1.]\n",
            " [1. 1. 1.]]\n",
            "[[1. 1. 1. 1.]\n",
            " [1. 1. 1. 1.]\n",
            " [1. 1. 1. 1.]\n",
            " [1. 1. 1. 1.]]\n"
          ]
        }
      ]
    },
    {
      "cell_type": "code",
      "source": [
        "# 4> USING THE ARANGE FUNCTION : You can create an ndarray with a range of values using the arange function. For example:\n",
        "\n",
        "import numpy as np\n",
        "\n",
        "# Creating an ndarray with values from 0 to 9\n",
        "a = np.arange(10)\n",
        "print(a)\n",
        "\n",
        "\n",
        "z = np.arange(7)\n",
        "print(z)\n",
        "# Output: [0 1 2 3 4 5 6 7 8 9]\n"
      ],
      "metadata": {
        "colab": {
          "base_uri": "https://localhost:8080/"
        },
        "id": "krWfu95BuZxO",
        "outputId": "623b5376-a358-4bcf-c9f2-eb1dc3f45636"
      },
      "execution_count": null,
      "outputs": [
        {
          "output_type": "stream",
          "name": "stdout",
          "text": [
            "[0 1 2 3 4 5 6 7 8 9]\n",
            "[0 1 2 3 4 5 6]\n"
          ]
        }
      ]
    },
    {
      "cell_type": "code",
      "source": [
        "# 5> Using linspace: \"numpy.linspace() is a function that returns evenly spaced numbers over a specified interval in numpy.\"\n",
        "\n",
        "import numpy as np\n",
        "\n",
        "# Creating an ndarray with values from 0 to 9, with 5 values in between\n",
        "a = np.linspace(0, 9, 5)\n",
        "print(a)\n",
        "\n",
        "\n",
        "\n",
        "# Output: [0.  2.5 5.  7.5 9. ]\n"
      ],
      "metadata": {
        "id": "7jkJhS9MwhDr"
      },
      "execution_count": null,
      "outputs": []
    },
    {
      "cell_type": "code",
      "source": [
        "#  logspace: \"numpy.logspace() is a function that returns numbers spaced evenly on a log scale over a specified interval in numpy.\"\n",
        "import numpy as np\n",
        "\n",
        "# Creating an ndarray with values from 10^1 to 10^3, with 5 values in between\n",
        "a = np.logspace(1, 3, 5)\n",
        "print(a)\n",
        "\n",
        "# Output: [ 10.          31.6227766   100.         316.22776602 1000.        ]\n"
      ],
      "metadata": {
        "id": "E5PY4LYCwkOT"
      },
      "execution_count": null,
      "outputs": []
    },
    {
      "cell_type": "code",
      "source": [
        "#  eye: \"numpy.eye() is a function that returns a 2-D array with ones on the diagonal and zeros elsewhere in numpy.\"\n",
        "\n",
        "import numpy as np\n",
        "\n",
        "# Creating a 3x3 identity matrix\n",
        "a = np.eye(3)\n",
        "print(a)\n",
        "\n",
        "# Output:\n",
        "# [[1. 0. 0.]\n",
        "#  [0. 1. 0.]\n",
        "#  [0. 0. 1.]]\n"
      ],
      "metadata": {
        "id": "-Tafa46AwnzR"
      },
      "execution_count": null,
      "outputs": []
    },
    {
      "cell_type": "code",
      "source": [
        "#  empty:\"numpy.empty() is a function that returns a new array of given shape and type, without initializing entries in numpy.\"\n",
        "\n",
        "import numpy as np\n",
        "\n",
        "# Creating an empty 3x3 ndarray\n",
        "a = np.empty((3, 3))\n",
        "print(a)\n",
        "\n",
        "# Output:\n",
        "# [[0. 0. 0.]\n",
        "#  [0. 0. 0.]\n",
        "#  [0. 0. 0.]]\n"
      ],
      "metadata": {
        "id": "TXJCuXidwqH5"
      },
      "execution_count": null,
      "outputs": []
    },
    {
      "cell_type": "code",
      "source": [
        "#  full: \"numpy.full() is a function that returns a new array of given shape and type, with all entries set to the fill value in numpy.\"\n",
        "\n",
        "\n",
        "import numpy as np\n",
        "\n",
        "# Creating a 3x3 ndarray filled with 7s\n",
        "a = np.full((3, 3), 7)\n",
        "print(a)\n",
        "\n",
        "# Output:\n",
        "# [[7 7 7]\n",
        "#  [7 7 7]\n",
        "#  [7 7 7]]\n"
      ],
      "metadata": {
        "id": "aU73wM75wr85",
        "colab": {
          "base_uri": "https://localhost:8080/"
        },
        "outputId": "872b86cf-d71a-4bf2-add4-003a1520398b"
      },
      "execution_count": 1,
      "outputs": [
        {
          "output_type": "stream",
          "name": "stdout",
          "text": [
            "[[7 7 7]\n",
            " [7 7 7]\n",
            " [7 7 7]]\n"
          ]
        }
      ]
    },
    {
      "cell_type": "markdown",
      "source": [],
      "metadata": {
        "id": "vZ13Edr7wM56"
      }
    }
  ]
}