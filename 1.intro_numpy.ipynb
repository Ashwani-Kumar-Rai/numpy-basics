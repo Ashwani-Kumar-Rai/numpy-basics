{
 "cells": [
  {
   "cell_type": "code",
   "execution_count": null,
   "metadata": {},
   "outputs": [],
   "source": [
    "# WHY USE NUMPY ? \n",
    "\n",
    "# NumPy provides efficient storage\n",
    "# It also provides better ways of handelling data and processing\n",
    "# It is fast \n",
    "# It is easy to learn \n",
    "# NumPy uses relatively less memory to store data"
   ]
  },
  {
   "cell_type": "code",
   "execution_count": null,
   "metadata": {},
   "outputs": [],
   "source": [
    "# NUMPY : IN OTHER WORDS \n",
    "\n",
    "# ye memory bachata hai\n",
    "# isme bahut sare ready-made functions mil jate hai\n",
    "# ye fast hai"
   ]
  },
  {
   "cell_type": "code",
   "execution_count": null,
   "metadata": {},
   "outputs": [],
   "source": [
    "# When learning data analysis and manipulation in Python, it is recommended to start with Numpy, \n",
    "    #- then Pandas, and finally Matplotlib. Here's why:\n",
    "\n",
    "# NUMPY: Numpy is the foundation for scientific computing in Python.\n",
    "    #- It provides support for arrays and matrices, which are essential for many data analysis tasks. \n",
    "        #- Once you have a good understanding of Numpy, \n",
    "            #- you'll find it easier to understand and use other libraries.\n",
    "\n",
    "# PANDAS: Pandas is built on top of Numpy and provides an easy-to-use and powerful data manipulation\n",
    "    # - and analysis toolkit. It provides data structures for efficiently storing large datasets,\n",
    "        # - and functions for working with them.\n",
    "\n",
    "# MATPLOTLIB: Matplotlib is a plotting library that is used for visualizing data.\n",
    "    #-Once you have learned Numpy and Pandas, you will use Matplotlib to plot your data,\n",
    "        # -create visualizations, and gain insights from your data.\n",
    "\n"
   ]
  }
 ],
 "metadata": {
  "kernelspec": {
   "display_name": "Python 3",
   "language": "python",
   "name": "python3"
  },
  "language_info": {
   "name": "python",
   "version": "3.10.6 (main, Nov 14 2022, 16:10:14) [GCC 11.3.0]"
  },
  "orig_nbformat": 4,
  "vscode": {
   "interpreter": {
    "hash": "916dbcbb3f70747c44a77c7bcd40155683ae19c65e1c03b4aa3499c5328201f1"
   }
  }
 },
 "nbformat": 4,
 "nbformat_minor": 2
}
